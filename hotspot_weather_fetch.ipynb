{
 "cells": [
  {
   "cell_type": "code",
   "execution_count": 1,
   "id": "dc32cfbf-f2b7-49f7-afa6-e83b80213a2f",
   "metadata": {},
   "outputs": [
    {
     "name": "stdout",
     "output_type": "stream",
     "text": [
      "Requirement already satisfied: pandas in c:\\users\\jorda\\appdata\\roaming\\python\\python312\\site-packages (2.2.3)\n",
      "Requirement already satisfied: requests in c:\\users\\jorda\\appdata\\roaming\\python\\python312\\site-packages (2.32.3)\n",
      "Requirement already satisfied: numpy>=1.26.0 in c:\\users\\jorda\\appdata\\roaming\\python\\python312\\site-packages (from pandas) (2.1.3)\n",
      "Requirement already satisfied: python-dateutil>=2.8.2 in c:\\users\\jorda\\appdata\\roaming\\python\\python312\\site-packages (from pandas) (2.9.0.post0)\n",
      "Requirement already satisfied: pytz>=2020.1 in c:\\users\\jorda\\appdata\\roaming\\python\\python312\\site-packages (from pandas) (2025.2)\n",
      "Requirement already satisfied: tzdata>=2022.7 in c:\\users\\jorda\\appdata\\roaming\\python\\python312\\site-packages (from pandas) (2025.2)\n",
      "Requirement already satisfied: charset-normalizer<4,>=2 in c:\\users\\jorda\\appdata\\roaming\\python\\python312\\site-packages (from requests) (3.4.1)\n",
      "Requirement already satisfied: idna<4,>=2.5 in c:\\users\\jorda\\appdata\\roaming\\python\\python312\\site-packages (from requests) (3.10)\n",
      "Requirement already satisfied: urllib3<3,>=1.21.1 in c:\\users\\jorda\\appdata\\roaming\\python\\python312\\site-packages (from requests) (2.4.0)\n",
      "Requirement already satisfied: certifi>=2017.4.17 in c:\\users\\jorda\\appdata\\roaming\\python\\python312\\site-packages (from requests) (2025.1.31)\n",
      "Requirement already satisfied: six>=1.5 in c:\\users\\jorda\\appdata\\roaming\\python\\python312\\site-packages (from python-dateutil>=2.8.2->pandas) (1.17.0)\n",
      "Note: you may need to restart the kernel to use updated packages.\n"
     ]
    },
    {
     "name": "stderr",
     "output_type": "stream",
     "text": [
      "\n",
      "[notice] A new release of pip is available: 25.0.1 -> 25.1.1\n",
      "[notice] To update, run: python.exe -m pip install --upgrade pip\n"
     ]
    }
   ],
   "source": [
    "pip install pandas requests"
   ]
  },
  {
   "cell_type": "code",
   "execution_count": 27,
   "id": "35d55716-36bb-4df4-9246-50ecfcd92c2a",
   "metadata": {},
   "outputs": [],
   "source": [
    "import requests\n",
    "import pandas as pd\n",
    "import torch\n",
    "import torch.nn as nn\n",
    "from sklearn.preprocessing import StandardScaler\n",
    "import numpy as np"
   ]
  },
  {
   "cell_type": "code",
   "execution_count": 4,
   "id": "280d0736-ab8d-43fc-85bb-2fe2450a4ce3",
   "metadata": {},
   "outputs": [
    {
     "name": "stdout",
     "output_type": "stream",
     "text": [
      "   latitude  longitude  bright_ti4  scan  track    acq_date  acq_time  \\\n",
      "0 -43.34805  146.91154      354.01  0.60   0.53  2025-05-12       325   \n",
      "1 -43.34264  146.91872      340.35  0.60   0.53  2025-05-12       325   \n",
      "2 -43.34224  146.91891      338.16  0.60   0.53  2025-05-12       325   \n",
      "3 -42.78127  146.90149      345.14  0.60   0.53  2025-05-12       325   \n",
      "4 -42.77414  146.93643      325.38  0.59   0.53  2025-05-12       325   \n",
      "\n",
      "  satellite instrument confidence version  bright_ti5     frp daynight  \n",
      "0       N20      VIIRS          n  2.0NRT      290.67  138.46        D  \n",
      "1       N20      VIIRS          n  2.0NRT      288.18  138.46        D  \n",
      "2       N20      VIIRS          n  2.0NRT      285.02   47.29        D  \n",
      "3       N20      VIIRS          n  2.0NRT      286.98    9.42        D  \n",
      "4       N20      VIIRS          n  2.0NRT      285.79    3.62        D  \n",
      "      latitude  longitude    acq_date  acq_time confidence\n",
      "0    -43.34805  146.91154  2025-05-12       325          n\n",
      "1    -43.34264  146.91872  2025-05-12       325          n\n",
      "2    -43.34224  146.91891  2025-05-12       325          n\n",
      "3    -42.78127  146.90149  2025-05-12       325          n\n",
      "4    -42.77414  146.93643  2025-05-12       325          n\n",
      "...        ...        ...         ...       ...        ...\n",
      "1899 -12.96687  131.75883  2025-05-12       516          n\n",
      "1900 -12.95426  131.77318  2025-05-12       516          n\n",
      "1901 -12.94039  131.55583  2025-05-12       516          n\n",
      "1902 -12.93966  131.55803  2025-05-12       516          n\n",
      "1903 -12.92813  131.43283  2025-05-12       516          n\n",
      "\n",
      "[1904 rows x 5 columns]\n"
     ]
    }
   ],
   "source": [
    "\"\"\"\n",
    "Fetch all the locations with a hotspot in australia\n",
    "\"\"\"\n",
    "\n",
    "MAP_KEY = \"6c8a65ccb7fd9e0e7caef47ad2c3fb49\"\n",
    "\n",
    "# Bounding box for australia\n",
    "bbox = [112.0, -44.0, 154.0, -10.0]\n",
    "\n",
    "# VIIRS 375m data, last 24 hours, CSV output\n",
    "# https:/firms.modaps.eosdis.nasa.gov/api/area/csv/MAP_KEY/SATELLITE or SENSOR/BOUNDINGBOX/DAYS\n",
    "url = f\"https://firms.modaps.eosdis.nasa.gov/api/area/csv/{MAP_KEY}/VIIRS_NOAA20_NRT/{bbox[0]},{bbox[1]},{bbox[2]},{bbox[3]}/1\"\n",
    "\n",
    "# Send request\n",
    "response = requests.get(url)\n",
    "# Check for successful request\n",
    "if response.status_code == 200:\n",
    "    # Load into DataFrame\n",
    "    from io import StringIO\n",
    "    df = pd.read_csv(StringIO(response.text))\n",
    "\n",
    "    # Display relevant columns\n",
    "    print(df.head())\n",
    "    print(df[['latitude', 'longitude', 'acq_date', 'acq_time', 'confidence']])\n",
    "else:\n",
    "    print(f\"Failed to fetch data: {response.status_code}\")"
   ]
  },
  {
   "cell_type": "code",
   "execution_count": 16,
   "id": "c8977e8e-2ae3-47c3-9ca8-d067bf3e4b4f",
   "metadata": {},
   "outputs": [
    {
     "name": "stdout",
     "output_type": "stream",
     "text": [
      "-43.34805 146.91154\n",
      "Time: 2025-05-12T00:00\n",
      "Temperature (°C): 8.4\n",
      "Relative Humidity (%): 91\n",
      "Precipitation (mm): 0.0\n",
      "Soil Water Content (m³/m³): 0.118\n",
      "Solar Radiation (W/m²): 0.0\n",
      "Wind Speed (m/s): 7.4\n",
      "-43.34264 146.91872\n",
      "Time: 2025-05-12T00:00\n",
      "Temperature (°C): 8.2\n",
      "Relative Humidity (%): 91\n",
      "Precipitation (mm): 0.0\n",
      "Soil Water Content (m³/m³): 0.118\n",
      "Solar Radiation (W/m²): 0.0\n",
      "Wind Speed (m/s): 7.4\n",
      "-43.34224 146.91891\n",
      "Time: 2025-05-12T00:00\n",
      "Temperature (°C): 8.1\n",
      "Relative Humidity (%): 91\n",
      "Precipitation (mm): 0.0\n",
      "Soil Water Content (m³/m³): 0.118\n",
      "Solar Radiation (W/m²): 0.0\n",
      "Wind Speed (m/s): 7.4\n",
      "-42.78127 146.90149\n",
      "Time: 2025-05-12T00:00\n",
      "Temperature (°C): 8.1\n",
      "Relative Humidity (%): 71\n",
      "Precipitation (mm): 0.0\n",
      "Soil Water Content (m³/m³): 0.144\n",
      "Solar Radiation (W/m²): 0.0\n",
      "Wind Speed (m/s): 3.4\n",
      "-42.77414 146.93643\n",
      "Time: 2025-05-12T00:00\n",
      "Temperature (°C): 7.9\n",
      "Relative Humidity (%): 71\n",
      "Precipitation (mm): 0.0\n",
      "Soil Water Content (m³/m³): 0.144\n",
      "Solar Radiation (W/m²): 0.0\n",
      "Wind Speed (m/s): 3.4\n"
     ]
    }
   ],
   "source": [
    "\"\"\"\n",
    "Fetch the weather for all the locations\n",
    "From FIRM's high confidence hotspots first.\n",
    "\"\"\"\n",
    "\n",
    "url = \"https://api.open-meteo.com/v1/forecast\"\n",
    "for row in df.head(5).iterrows():\n",
    "    params = {\n",
    "        'latitude': row[1].latitude,\n",
    "        'longitude': row[1].longitude,\n",
    "        \"hourly\": \"temperature_2m,relative_humidity_2m,precipitation,soil_moisture_0_1cm,shortwave_radiation,windspeed_10m\",\n",
    "        \"timezone\": \"auto\",\n",
    "    }\n",
    "    response = requests.get(url, params=params)\n",
    "    print(params[\"latitude\"], params['longitude'])\n",
    "    # Parse the response\n",
    "    if response.status_code == 200:\n",
    "        data = response.json()\n",
    "        hourly = data.get(\"hourly\", {})\n",
    "        \n",
    "        # Print some values (e.g., first time step for each variable)\n",
    "        print(\"Time:\", hourly[\"time\"][0])\n",
    "        print(\"Temperature (°C):\", hourly[\"temperature_2m\"][0])\n",
    "        print(\"Relative Humidity (%):\", hourly[\"relative_humidity_2m\"][0])\n",
    "        print(\"Precipitation (mm):\", hourly[\"precipitation\"][0])\n",
    "        print(\"Soil Water Content (m³/m³):\", hourly[\"soil_moisture_0_1cm\"][0])\n",
    "        print(\"Solar Radiation (W/m²):\", hourly[\"shortwave_radiation\"][0])\n",
    "        print(\"Wind Speed (m/s):\", hourly[\"windspeed_10m\"][0])\n",
    "    else:\n",
    "        print(\"Failed to fetch data. Status code:\", response.status_code)\n",
    "        print(response.text)"
   ]
  },
  {
   "cell_type": "code",
   "execution_count": 20,
   "id": "e794e6ce-4278-4412-bf5a-213ef180446d",
   "metadata": {},
   "outputs": [],
   "source": [
    "\"\"\"\n",
    "Class for ML model\n",
    "\"\"\"\n",
    "\n",
    "class RegressionNN(nn.Module):\n",
    "    def __init__(self, input_dim):\n",
    "        super().__init__()\n",
    "        self.model = nn.Sequential(\n",
    "            nn.Linear(input_dim, 64),\n",
    "            nn.ReLU(),\n",
    "            nn.Linear(64, 32),\n",
    "            nn.ReLU(),\n",
    "            nn.Linear(32, 1)\n",
    "        )\n",
    "\n",
    "    def forward(self, x):\n",
    "        return self.model(x)"
   ]
  },
  {
   "cell_type": "code",
   "execution_count": 24,
   "id": "376f7962-cf41-4c1b-86bc-ef1b2d28439a",
   "metadata": {},
   "outputs": [],
   "source": [
    "data_df = pd.read_csv(\"flattened_wildfire_data.csv\")\n",
    "X = data_df.drop([\"Mean_confidence\"], axis=1).values"
   ]
  },
  {
   "cell_type": "code",
   "execution_count": 26,
   "id": "61aebefc-ce10-4270-bd3b-ad13d6e94f60",
   "metadata": {},
   "outputs": [
    {
     "data": {
      "text/plain": [
       "RegressionNN(\n",
       "  (model): Sequential(\n",
       "    (0): Linear(in_features=8, out_features=64, bias=True)\n",
       "    (1): ReLU()\n",
       "    (2): Linear(in_features=64, out_features=32, bias=True)\n",
       "    (3): ReLU()\n",
       "    (4): Linear(in_features=32, out_features=1, bias=True)\n",
       "  )\n",
       ")"
      ]
     },
     "execution_count": 26,
     "metadata": {},
     "output_type": "execute_result"
    }
   ],
   "source": [
    "input_dim = X.shape[1] \n",
    "model = RegressionNN(input_dim)\n",
    "model.load_state_dict(torch.load(\"wildfire_nn_weights1.pth\"))\n",
    "model.eval()"
   ]
  },
  {
   "cell_type": "code",
   "execution_count": 28,
   "id": "39121458-02be-4b65-aa45-d5652d2629d4",
   "metadata": {},
   "outputs": [
    {
     "ename": "NameError",
     "evalue": "name 'feature1' is not defined",
     "output_type": "error",
     "traceback": [
      "\u001b[1;31m---------------------------------------------------------------------------\u001b[0m",
      "\u001b[1;31mNameError\u001b[0m                                 Traceback (most recent call last)",
      "Cell \u001b[1;32mIn[28], line 10\u001b[0m\n\u001b[0;32m      7\u001b[0m scaler_y \u001b[38;5;241m=\u001b[39m StandardScaler()\u001b[38;5;241m.\u001b[39mfit(df[\u001b[38;5;124m\"\u001b[39m\u001b[38;5;124mMean_confidence\u001b[39m\u001b[38;5;124m\"\u001b[39m]\u001b[38;5;241m.\u001b[39mvalues\u001b[38;5;241m.\u001b[39mreshape(\u001b[38;5;241m-\u001b[39m\u001b[38;5;241m1\u001b[39m, \u001b[38;5;241m1\u001b[39m))\n\u001b[0;32m      9\u001b[0m \u001b[38;5;66;03m# Example new data input (same number of features as training data)\u001b[39;00m\n\u001b[1;32m---> 10\u001b[0m new_input \u001b[38;5;241m=\u001b[39m np\u001b[38;5;241m.\u001b[39marray([[feature1, feature2, \u001b[38;5;241m.\u001b[39m\u001b[38;5;241m.\u001b[39m\u001b[38;5;241m.\u001b[39m, featureN]])\n\u001b[0;32m     11\u001b[0m new_input_scaled \u001b[38;5;241m=\u001b[39m scaler_X\u001b[38;5;241m.\u001b[39mtransform(new_input)\n\u001b[0;32m     13\u001b[0m \u001b[38;5;66;03m# Convert to tensor\u001b[39;00m\n",
      "\u001b[1;31mNameError\u001b[0m: name 'feature1' is not defined"
     ]
    }
   ],
   "source": [
    "# Refit scalers if not saved\n",
    "df = pd.read_csv(\"flattened_wildfire_data.csv\")\n",
    "df = df.select_dtypes(include=[\"number\"]).dropna()\n",
    "\n",
    "X = df.drop(\"Mean_confidence\", axis=1).values\n",
    "scaler_X = StandardScaler().fit(X)\n",
    "scaler_y = StandardScaler().fit(df[\"Mean_confidence\"].values.reshape(-1, 1))\n",
    "\n",
    "# Example new data input (same number of features as training data)\n",
    "new_input = np.array([[feature1, feature2, ..., featureN]])\n",
    "new_input_scaled = scaler_X.transform(new_input)\n",
    "\n",
    "# Convert to tensor\n",
    "new_input_tensor = torch.tensor(new_input_scaled, dtype=torch.float32)\n"
   ]
  }
 ],
 "metadata": {
  "kernelspec": {
   "display_name": "Python 3 (ipykernel)",
   "language": "python",
   "name": "python3"
  },
  "language_info": {
   "codemirror_mode": {
    "name": "ipython",
    "version": 3
   },
   "file_extension": ".py",
   "mimetype": "text/x-python",
   "name": "python",
   "nbconvert_exporter": "python",
   "pygments_lexer": "ipython3",
   "version": "3.12.7"
  }
 },
 "nbformat": 4,
 "nbformat_minor": 5
}
