{
 "cells": [
  {
   "cell_type": "code",
   "execution_count": 1,
   "id": "dc32cfbf-f2b7-49f7-afa6-e83b80213a2f",
   "metadata": {},
   "outputs": [
    {
     "name": "stdout",
     "output_type": "stream",
     "text": [
      "Requirement already satisfied: pandas in c:\\users\\jorda\\appdata\\roaming\\python\\python312\\site-packages (2.2.3)\n",
      "Requirement already satisfied: requests in c:\\users\\jorda\\appdata\\roaming\\python\\python312\\site-packages (2.32.3)\n",
      "Requirement already satisfied: numpy>=1.26.0 in c:\\users\\jorda\\appdata\\roaming\\python\\python312\\site-packages (from pandas) (2.1.3)\n",
      "Requirement already satisfied: python-dateutil>=2.8.2 in c:\\users\\jorda\\appdata\\roaming\\python\\python312\\site-packages (from pandas) (2.9.0.post0)\n",
      "Requirement already satisfied: pytz>=2020.1 in c:\\users\\jorda\\appdata\\roaming\\python\\python312\\site-packages (from pandas) (2025.2)\n",
      "Requirement already satisfied: tzdata>=2022.7 in c:\\users\\jorda\\appdata\\roaming\\python\\python312\\site-packages (from pandas) (2025.2)\n",
      "Requirement already satisfied: charset-normalizer<4,>=2 in c:\\users\\jorda\\appdata\\roaming\\python\\python312\\site-packages (from requests) (3.4.1)\n",
      "Requirement already satisfied: idna<4,>=2.5 in c:\\users\\jorda\\appdata\\roaming\\python\\python312\\site-packages (from requests) (3.10)\n",
      "Requirement already satisfied: urllib3<3,>=1.21.1 in c:\\users\\jorda\\appdata\\roaming\\python\\python312\\site-packages (from requests) (2.4.0)\n",
      "Requirement already satisfied: certifi>=2017.4.17 in c:\\users\\jorda\\appdata\\roaming\\python\\python312\\site-packages (from requests) (2025.1.31)\n",
      "Requirement already satisfied: six>=1.5 in c:\\users\\jorda\\appdata\\roaming\\python\\python312\\site-packages (from python-dateutil>=2.8.2->pandas) (1.17.0)\n",
      "Note: you may need to restart the kernel to use updated packages.\n"
     ]
    },
    {
     "name": "stderr",
     "output_type": "stream",
     "text": [
      "\n",
      "[notice] A new release of pip is available: 25.0.1 -> 25.1.1\n",
      "[notice] To update, run: python.exe -m pip install --upgrade pip\n"
     ]
    }
   ],
   "source": [
    "pip install pandas requests"
   ]
  },
  {
   "cell_type": "code",
   "execution_count": 2,
   "id": "35d55716-36bb-4df4-9246-50ecfcd92c2a",
   "metadata": {},
   "outputs": [],
   "source": [
    "import requests\n",
    "import pandas as pd"
   ]
  },
  {
   "cell_type": "code",
   "execution_count": 15,
   "id": "280d0736-ab8d-43fc-85bb-2fe2450a4ce3",
   "metadata": {},
   "outputs": [
    {
     "name": "stdout",
     "output_type": "stream",
     "text": [
      "   latitude  longitude  bright_ti4  scan  track    acq_date  acq_time  \\\n",
      "0 -39.72088  143.93175      339.30  0.45   0.47  2025-05-11       347   \n",
      "1 -39.71654  143.93112      328.04  0.45   0.47  2025-05-11       347   \n",
      "2 -38.38332  144.02612      343.00  0.43   0.46  2025-05-11       347   \n",
      "3 -38.37908  144.02539      355.18  0.43   0.46  2025-05-11       347   \n",
      "4 -38.07477  143.13847      326.78  0.47   0.48  2025-05-11       347   \n",
      "\n",
      "  satellite instrument confidence version  bright_ti5    frp daynight  \n",
      "0       N20      VIIRS          n  2.0NRT      280.02   5.69        D  \n",
      "1       N20      VIIRS          n  2.0NRT      279.66   4.19        D  \n",
      "2       N20      VIIRS          n  2.0NRT      283.96  18.24        D  \n",
      "3       N20      VIIRS          n  2.0NRT      285.96   9.77        D  \n",
      "4       N20      VIIRS          n  2.0NRT      294.58   3.48        D  \n",
      "      latitude  longitude    acq_date  acq_time confidence\n",
      "0    -39.72088  143.93175  2025-05-11       347          n\n",
      "1    -39.71654  143.93112  2025-05-11       347          n\n",
      "2    -38.38332  144.02612  2025-05-11       347          n\n",
      "3    -38.37908  144.02539  2025-05-11       347          n\n",
      "4    -38.07477  143.13847  2025-05-11       347          n\n",
      "...        ...        ...         ...       ...        ...\n",
      "1822 -33.44850  116.50191  2025-05-11       709          h\n",
      "1823 -33.44490  116.49218  2025-05-11       709          n\n",
      "1824 -33.44429  116.49007  2025-05-11       709          n\n",
      "1825 -33.44213  116.50091  2025-05-11       709          n\n",
      "1826 -33.44155  116.49888  2025-05-11       709          n\n",
      "\n",
      "[1827 rows x 5 columns]\n"
     ]
    }
   ],
   "source": [
    "\"\"\"\n",
    "Fetch all the locations with a hotspot in australia\n",
    "\"\"\"\n",
    "\n",
    "MAP_KEY = \"6c8a65ccb7fd9e0e7caef47ad2c3fb49\"\n",
    "\n",
    "# Bounding box for australia\n",
    "bbox = [112.0, -44.0, 154.0, -10.0]\n",
    "\n",
    "# VIIRS 375m data, last 24 hours, CSV output\n",
    "# https:/firms.modaps.eosdis.nasa.gov/api/area/csv/MAP_KEY/SATELLITE or SENSOR/BOUNDINGBOX/DAYS\n",
    "url = f\"https://firms.modaps.eosdis.nasa.gov/api/area/csv/{MAP_KEY}/VIIRS_NOAA20_NRT/{bbox[0]},{bbox[1]},{bbox[2]},{bbox[3]}/1\"\n",
    "\n",
    "# Send request\n",
    "response = requests.get(url)\n",
    "# Check for successful request\n",
    "if response.status_code == 200:\n",
    "    # Load into DataFrame\n",
    "    from io import StringIO\n",
    "    df = pd.read_csv(StringIO(response.text))\n",
    "\n",
    "    # Display relevant columns\n",
    "    print(df.head())\n",
    "    print(df[['latitude', 'longitude', 'acq_date', 'acq_time', 'confidence']])\n",
    "else:\n",
    "    print(f\"Failed to fetch data: {response.status_code}\")"
   ]
  },
  {
   "cell_type": "code",
   "execution_count": 45,
   "id": "c8977e8e-2ae3-47c3-9ca8-d067bf3e4b4f",
   "metadata": {},
   "outputs": [
    {
     "name": "stdout",
     "output_type": "stream",
     "text": [
      "-39.72088,143.93175\n",
      "-39.71654,143.93112\n",
      "-38.38332,144.02612\n",
      "-38.37908,144.02539\n",
      "-38.07477,143.13847\n"
     ]
    }
   ],
   "source": [
    "\"\"\"\n",
    "Fetch the weather for all the locations\n",
    "From FIRM's high confidence hotspots first.\n",
    "\"\"\"\n",
    "API_KEY = \"2CX3MWNW5SVL4AJ7CHUESRFDZ\"\n",
    "\n",
    "for row in df.head(5).iterrows():\n",
    "    location = f\"{row[1].latitude},{row[1].longitude}\"\n",
    "    print(location)"
   ]
  }
 ],
 "metadata": {
  "kernelspec": {
   "display_name": "Python [conda env:base] *",
   "language": "python",
   "name": "conda-base-py"
  },
  "language_info": {
   "codemirror_mode": {
    "name": "ipython",
    "version": 3
   },
   "file_extension": ".py",
   "mimetype": "text/x-python",
   "name": "python",
   "nbconvert_exporter": "python",
   "pygments_lexer": "ipython3",
   "version": "3.12.7"
  }
 },
 "nbformat": 4,
 "nbformat_minor": 5
}
