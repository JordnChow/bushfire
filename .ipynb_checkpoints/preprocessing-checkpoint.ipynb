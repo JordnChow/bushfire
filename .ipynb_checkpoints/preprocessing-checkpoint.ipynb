{
 "cells": [
  {
   "cell_type": "code",
   "execution_count": 84,
   "id": "7ffa409d-3ded-438b-b250-a182efc6a4f2",
   "metadata": {},
   "outputs": [],
   "source": [
    "import matplotlib.pyplot as plt\n",
    "import pandas as pd\n",
    "import numpy as np\n",
    "import os\n",
    "from glob import glob"
   ]
  },
  {
   "cell_type": "code",
   "execution_count": 86,
   "id": "729338c4-deac-4730-b94c-186702c5e595",
   "metadata": {},
   "outputs": [],
   "source": [
    "wildfires_df = pd.read_csv(\"./Historical_Wildfires.csv\")\n",
    "parameters_df = pd.read_csv(\"./HistoricalWeather.csv\")\n",
    "info_df = pd.read_csv(\"./VegetationIndex.csv\")\n",
    "\n",
    "wildfires_df['Date'] = pd.to_datetime(wildfires_df['Date'])\n",
    "parameters_df['Date'] = pd.to_datetime(parameters_df['Date'])"
   ]
  },
  {
   "cell_type": "code",
   "execution_count": 98,
   "id": "ca1a55a7-e94a-42db-9b24-d3db7340be78",
   "metadata": {},
   "outputs": [],
   "source": [
    "# Pivot the parameters so each parameter becomes a column\n",
    "pivoted_parameters = parameters_df.pivot_table(\n",
    "    index=['Region', 'Date'],\n",
    "    columns='Parameter',\n",
    "    values='mean()',\n",
    "    aggfunc='first'  # in case there are multiple entries per (region, date, parameter)\n",
    ").reset_index()\n",
    "\n",
    "# Merge wildfires with pivoted parameters\n",
    "merged_df = pd.merge(wildfires_df, pivoted_parameters, on=['Region', 'Date'], how='left')\n",
    "\n",
    "# Save the final merged dataset\n",
    "merged_df.to_csv(\"Merged_Wildfire_Data.csv\", index=False)\n"
   ]
  },
  {
   "cell_type": "code",
   "execution_count": 109,
   "id": "4f25152c-6947-4d68-b7af-7d76ffbe87df",
   "metadata": {},
   "outputs": [],
   "source": [
    "columns_to_drop = [0, 1, 2, 4, 7, 8, 9]\n",
    "new_df =  merged_df.drop(merged_df.columns[columns_to_drop], axis=1)\n",
    "new_df.to_csv(\"flattened_wildfire_data.csv\", index=False)"
   ]
  }
 ],
 "metadata": {
  "kernelspec": {
   "display_name": "Python [conda env:base] *",
   "language": "python",
   "name": "conda-base-py"
  },
  "language_info": {
   "codemirror_mode": {
    "name": "ipython",
    "version": 3
   },
   "file_extension": ".py",
   "mimetype": "text/x-python",
   "name": "python",
   "nbconvert_exporter": "python",
   "pygments_lexer": "ipython3",
   "version": "3.12.7"
  }
 },
 "nbformat": 4,
 "nbformat_minor": 5
}
